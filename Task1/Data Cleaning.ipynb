{
 "cells": [
  {
   "cell_type": "markdown",
   "id": "e00b5383-b915-4a16-8ed0-476f979052b7",
   "metadata": {},
   "source": [
    "## Data Cleaning\n",
    "\n",
    "Now since we have extracted data from the website, it is not cleaned and ready to be analyzed yet. The reviews section will need to be cleaned for punctuations, spellings and other characters. "
   ]
  },
  {
   "cell_type": "code",
   "execution_count": 1,
   "id": "69c14a0d-d637-4b7e-8714-31fb531b4954",
   "metadata": {},
   "outputs": [
    {
     "name": "stderr",
     "output_type": "stream",
     "text": [
      "C:\\Users\\PrafulcooL\\anaconda3\\lib\\site-packages\\scipy\\__init__.py:138: UserWarning: A NumPy version >=1.16.5 and <1.23.0 is required for this version of SciPy (detected version 1.24.4)\n",
      "  warnings.warn(f\"A NumPy version >={np_minversion} and <{np_maxversion} is required for this version of \"\n"
     ]
    }
   ],
   "source": [
    "#imports\n",
    "\n",
    "import pandas as pd\n",
    "import matplotlib.pyplot as plt\n",
    "import seaborn as sns\n",
    "import os\n",
    "\n",
    "#regex\n",
    "import re"
   ]
  },
  {
   "cell_type": "code",
   "execution_count": 2,
   "id": "c46b06dc-b9f5-4b9f-b52b-7f9b01ff7200",
   "metadata": {},
   "outputs": [],
   "source": [
    "#create a dataframe from csv file\n",
    "\n",
    "cwd = os.getcwd()\n",
    "\n",
    "df = pd.read_csv(cwd+\"/BA_reviews.csv\", index_col=0)"
   ]
  },
  {
   "cell_type": "code",
   "execution_count": 3,
   "id": "888d1113-bafd-4e6c-a020-c0e7b721ce50",
   "metadata": {},
   "outputs": [
    {
     "data": {
      "text/html": [
       "<div>\n",
       "<style scoped>\n",
       "    .dataframe tbody tr th:only-of-type {\n",
       "        vertical-align: middle;\n",
       "    }\n",
       "\n",
       "    .dataframe tbody tr th {\n",
       "        vertical-align: top;\n",
       "    }\n",
       "\n",
       "    .dataframe thead th {\n",
       "        text-align: right;\n",
       "    }\n",
       "</style>\n",
       "<table border=\"1\" class=\"dataframe\">\n",
       "  <thead>\n",
       "    <tr style=\"text-align: right;\">\n",
       "      <th></th>\n",
       "      <th>reviews</th>\n",
       "      <th>stars</th>\n",
       "      <th>date</th>\n",
       "      <th>country</th>\n",
       "    </tr>\n",
       "  </thead>\n",
       "  <tbody>\n",
       "    <tr>\n",
       "      <th>0</th>\n",
       "      <td>Not Verified | BA is not treating its premium ...</td>\n",
       "      <td>4</td>\n",
       "      <td>6th July 2023</td>\n",
       "      <td>(United Kingdom)</td>\n",
       "    </tr>\n",
       "    <tr>\n",
       "      <th>1</th>\n",
       "      <td>✅ Trip Verified |  24 hours before our departu...</td>\n",
       "      <td>1</td>\n",
       "      <td>5th July 2023</td>\n",
       "      <td>(South Africa)</td>\n",
       "    </tr>\n",
       "    <tr>\n",
       "      <th>2</th>\n",
       "      <td>✅ Trip Verified |  We arrived at Heathrow at 0...</td>\n",
       "      <td>1</td>\n",
       "      <td>5th July 2023</td>\n",
       "      <td>(United Kingdom)</td>\n",
       "    </tr>\n",
       "    <tr>\n",
       "      <th>3</th>\n",
       "      <td>✅ Trip Verified |  Original flight was cancell...</td>\n",
       "      <td>3</td>\n",
       "      <td>4th July 2023</td>\n",
       "      <td>(Greece)</td>\n",
       "    </tr>\n",
       "    <tr>\n",
       "      <th>4</th>\n",
       "      <td>Not Verified |  Airport check in was functiona...</td>\n",
       "      <td>3</td>\n",
       "      <td>3rd July 2023</td>\n",
       "      <td>(Italy)</td>\n",
       "    </tr>\n",
       "  </tbody>\n",
       "</table>\n",
       "</div>"
      ],
      "text/plain": [
       "                                             reviews stars           date  \\\n",
       "0  Not Verified | BA is not treating its premium ...     4  6th July 2023   \n",
       "1  ✅ Trip Verified |  24 hours before our departu...     1  5th July 2023   \n",
       "2  ✅ Trip Verified |  We arrived at Heathrow at 0...     1  5th July 2023   \n",
       "3  ✅ Trip Verified |  Original flight was cancell...     3  4th July 2023   \n",
       "4  Not Verified |  Airport check in was functiona...     3  3rd July 2023   \n",
       "\n",
       "              country  \n",
       "0   (United Kingdom)   \n",
       "1     (South Africa)   \n",
       "2   (United Kingdom)   \n",
       "3           (Greece)   \n",
       "4            (Italy)   "
      ]
     },
     "execution_count": 3,
     "metadata": {},
     "output_type": "execute_result"
    }
   ],
   "source": [
    "df.head()"
   ]
  },
  {
   "cell_type": "markdown",
   "id": "7aeb0b06-23f8-48bb-b2d4-b91455040038",
   "metadata": {},
   "source": [
    "We will also create a column which mentions if the user is verified or not. "
   ]
  },
  {
   "cell_type": "code",
   "execution_count": 4,
   "id": "45908798-e042-4d71-8e01-395f53f2005d",
   "metadata": {},
   "outputs": [],
   "source": [
    "df['verified'] = df.reviews.str.contains(\"Trip Verified\")"
   ]
  },
  {
   "cell_type": "code",
   "execution_count": 5,
   "id": "ae4e6e23-4ecc-4c94-8526-5f645ff2f6a2",
   "metadata": {},
   "outputs": [
    {
     "data": {
      "text/plain": [
       "0       False\n",
       "1        True\n",
       "2        True\n",
       "3        True\n",
       "4       False\n",
       "        ...  \n",
       "3495    False\n",
       "3496    False\n",
       "3497    False\n",
       "3498    False\n",
       "3499    False\n",
       "Name: verified, Length: 3500, dtype: bool"
      ]
     },
     "execution_count": 5,
     "metadata": {},
     "output_type": "execute_result"
    }
   ],
   "source": [
    "df['verified']"
   ]
  },
  {
   "cell_type": "markdown",
   "id": "cf266fe0-0c33-477a-9f1e-529a214e91c5",
   "metadata": {},
   "source": [
    "### Cleaning Reviews"
   ]
  },
  {
   "cell_type": "code",
   "execution_count": 6,
   "id": "5b7aa2c4",
   "metadata": {},
   "outputs": [
    {
     "name": "stderr",
     "output_type": "stream",
     "text": [
      "[nltk_data] Downloading package stopwords to\n",
      "[nltk_data]     C:\\Users\\PrafulcooL\\AppData\\Roaming\\nltk_data...\n",
      "[nltk_data]   Package stopwords is already up-to-date!\n",
      "[nltk_data] Downloading package wordnet to\n",
      "[nltk_data]     C:\\Users\\PrafulcooL\\AppData\\Roaming\\nltk_data...\n",
      "[nltk_data]   Package wordnet is already up-to-date!\n"
     ]
    },
    {
     "data": {
      "text/plain": [
       "True"
      ]
     },
     "execution_count": 6,
     "metadata": {},
     "output_type": "execute_result"
    }
   ],
   "source": [
    "import nltk\n",
    "nltk.download('stopwords')\n",
    "nltk.download('wordnet')\n"
   ]
  },
  {
   "cell_type": "markdown",
   "id": "ac2bc6a6-8783-4873-b5e7-1719f997cdf2",
   "metadata": {},
   "source": [
    "We will extract the column of reviews into a separate dataframe and clean it for semantic analysis"
   ]
  },
  {
   "cell_type": "code",
   "execution_count": 7,
   "id": "e4319089-b957-4b60-8f07-fc8cd3487f9e",
   "metadata": {},
   "outputs": [],
   "source": [
    "#for lemmatization of words we will use nltk library\n",
    "\n",
    "from nltk.stem import WordNetLemmatizer\n",
    "from nltk.corpus import stopwords\n",
    "lemma = WordNetLemmatizer()\n",
    "\n",
    "\n",
    "reviews_data = df.reviews.str.strip(\"✅ Trip Verified |\")\n",
    " meanin\n",
    "#create an empty list to collect cleaned data corpus\n",
    "corpus =[]\n",
    "\n",
    "#loop through each review, remove punctuations, small case it, join it and add it to corpus\n",
    "for rev in reviews_data:\n",
    "    rev = re.sub('[^a-zA-Z]',' ', rev)\n",
    "    rev = rev.lower()\n",
    "    rev = rev.split()\n",
    "    rev = [lemma.lemmatize(word) for word in rev if word not in set(stopwords.words(\"english\"))]\n",
    "    rev = \" \".join(rev)\n",
    "    corpus.append(rev)"
   ]
  },
  {
   "cell_type": "code",
   "execution_count": null,
   "id": "ed93dd93",
   "metadata": {},
   "outputs": [],
   "source": []
  },
  {
   "cell_type": "code",
   "execution_count": 8,
   "id": "835b9930-20e0-4d79-8a88-a5737309b4ce",
   "metadata": {},
   "outputs": [],
   "source": [
    "# add the corpus to the original dataframe\n",
    "\n",
    "df['corpus'] = corpus"
   ]
  },
  {
   "cell_type": "code",
   "execution_count": 9,
   "id": "baa16beb-4ac5-4850-a46a-0ae11d64cf3d",
   "metadata": {},
   "outputs": [
    {
     "data": {
      "text/html": [
       "<div>\n",
       "<style scoped>\n",
       "    .dataframe tbody tr th:only-of-type {\n",
       "        vertical-align: middle;\n",
       "    }\n",
       "\n",
       "    .dataframe tbody tr th {\n",
       "        vertical-align: top;\n",
       "    }\n",
       "\n",
       "    .dataframe thead th {\n",
       "        text-align: right;\n",
       "    }\n",
       "</style>\n",
       "<table border=\"1\" class=\"dataframe\">\n",
       "  <thead>\n",
       "    <tr style=\"text-align: right;\">\n",
       "      <th></th>\n",
       "      <th>reviews</th>\n",
       "      <th>stars</th>\n",
       "      <th>date</th>\n",
       "      <th>country</th>\n",
       "      <th>verified</th>\n",
       "      <th>corpus</th>\n",
       "    </tr>\n",
       "  </thead>\n",
       "  <tbody>\n",
       "    <tr>\n",
       "      <th>0</th>\n",
       "      <td>Not Verified | BA is not treating its premium ...</td>\n",
       "      <td>4</td>\n",
       "      <td>6th July 2023</td>\n",
       "      <td>(United Kingdom)</td>\n",
       "      <td>False</td>\n",
       "      <td>verified ba treating premium economy passenger...</td>\n",
       "    </tr>\n",
       "    <tr>\n",
       "      <th>1</th>\n",
       "      <td>✅ Trip Verified |  24 hours before our departu...</td>\n",
       "      <td>1</td>\n",
       "      <td>5th July 2023</td>\n",
       "      <td>(South Africa)</td>\n",
       "      <td>True</td>\n",
       "      <td>hour departure ba cape town heathrow thursday ...</td>\n",
       "    </tr>\n",
       "    <tr>\n",
       "      <th>2</th>\n",
       "      <td>✅ Trip Verified |  We arrived at Heathrow at 0...</td>\n",
       "      <td>1</td>\n",
       "      <td>5th July 2023</td>\n",
       "      <td>(United Kingdom)</td>\n",
       "      <td>True</td>\n",
       "      <td>arrived heathrow find flight ibiza cancelled b...</td>\n",
       "    </tr>\n",
       "    <tr>\n",
       "      <th>3</th>\n",
       "      <td>✅ Trip Verified |  Original flight was cancell...</td>\n",
       "      <td>3</td>\n",
       "      <td>4th July 2023</td>\n",
       "      <td>(Greece)</td>\n",
       "      <td>True</td>\n",
       "      <td>original flight cancelled explanation represen...</td>\n",
       "    </tr>\n",
       "    <tr>\n",
       "      <th>4</th>\n",
       "      <td>Not Verified |  Airport check in was functiona...</td>\n",
       "      <td>3</td>\n",
       "      <td>3rd July 2023</td>\n",
       "      <td>(Italy)</td>\n",
       "      <td>False</td>\n",
       "      <td>verified airport check functionary little warm...</td>\n",
       "    </tr>\n",
       "  </tbody>\n",
       "</table>\n",
       "</div>"
      ],
      "text/plain": [
       "                                             reviews stars           date  \\\n",
       "0  Not Verified | BA is not treating its premium ...     4  6th July 2023   \n",
       "1  ✅ Trip Verified |  24 hours before our departu...     1  5th July 2023   \n",
       "2  ✅ Trip Verified |  We arrived at Heathrow at 0...     1  5th July 2023   \n",
       "3  ✅ Trip Verified |  Original flight was cancell...     3  4th July 2023   \n",
       "4  Not Verified |  Airport check in was functiona...     3  3rd July 2023   \n",
       "\n",
       "              country  verified  \\\n",
       "0   (United Kingdom)      False   \n",
       "1     (South Africa)       True   \n",
       "2   (United Kingdom)       True   \n",
       "3           (Greece)       True   \n",
       "4            (Italy)      False   \n",
       "\n",
       "                                              corpus  \n",
       "0  verified ba treating premium economy passenger...  \n",
       "1  hour departure ba cape town heathrow thursday ...  \n",
       "2  arrived heathrow find flight ibiza cancelled b...  \n",
       "3  original flight cancelled explanation represen...  \n",
       "4  verified airport check functionary little warm...  "
      ]
     },
     "execution_count": 9,
     "metadata": {},
     "output_type": "execute_result"
    }
   ],
   "source": [
    "df.head()"
   ]
  },
  {
   "cell_type": "markdown",
   "id": "63424d81-bab2-4e74-aa97-6094bd035940",
   "metadata": {},
   "source": [
    "### Cleaning/Fromat date"
   ]
  },
  {
   "cell_type": "code",
   "execution_count": 10,
   "id": "33f1a718-af12-4fa4-85ae-f5511e8986ae",
   "metadata": {},
   "outputs": [
    {
     "data": {
      "text/plain": [
       "reviews     object\n",
       "stars       object\n",
       "date        object\n",
       "country     object\n",
       "verified      bool\n",
       "corpus      object\n",
       "dtype: object"
      ]
     },
     "execution_count": 10,
     "metadata": {},
     "output_type": "execute_result"
    }
   ],
   "source": [
    "df.dtypes"
   ]
  },
  {
   "cell_type": "code",
   "execution_count": 11,
   "id": "c773fca4-23ee-4f7d-a1db-8da648ddb161",
   "metadata": {},
   "outputs": [],
   "source": [
    "# convert the date to datetime format\n",
    "\n",
    "df.date = pd.to_datetime(df.date)"
   ]
  },
  {
   "cell_type": "code",
   "execution_count": 12,
   "id": "0440c89e-9a89-4ef4-888f-eb25ad833afb",
   "metadata": {},
   "outputs": [
    {
     "data": {
      "text/plain": [
       "0   2023-07-06\n",
       "1   2023-07-05\n",
       "2   2023-07-05\n",
       "3   2023-07-04\n",
       "4   2023-07-03\n",
       "Name: date, dtype: datetime64[ns]"
      ]
     },
     "execution_count": 12,
     "metadata": {},
     "output_type": "execute_result"
    }
   ],
   "source": [
    "df.date.head()"
   ]
  },
  {
   "cell_type": "markdown",
   "id": "a7973868-80c4-46b9-9449-6761fac91f64",
   "metadata": {},
   "source": [
    "### Cleaning ratings with stars"
   ]
  },
  {
   "cell_type": "code",
   "execution_count": 13,
   "id": "4f535799-1f5a-43d2-a858-5639f35b073c",
   "metadata": {},
   "outputs": [
    {
     "data": {
      "text/plain": [
       "array(['4', '1', '3', '10', '2', '7', '9', '5', '8', '6', 'None'],\n",
       "      dtype=object)"
      ]
     },
     "execution_count": 13,
     "metadata": {},
     "output_type": "execute_result"
    }
   ],
   "source": [
    "#check for unique values\n",
    "df.stars.unique()"
   ]
  },
  {
   "cell_type": "code",
   "execution_count": 14,
   "id": "9cbfaa06-b519-4ce1-bb50-420692a923d6",
   "metadata": {},
   "outputs": [
    {
     "data": {
      "text/plain": [
       "1       801\n",
       "2       397\n",
       "3       396\n",
       "8       348\n",
       "10      311\n",
       "7       302\n",
       "9       299\n",
       "4       239\n",
       "5       224\n",
       "6       178\n",
       "None      5\n",
       "Name: stars, dtype: int64"
      ]
     },
     "execution_count": 14,
     "metadata": {},
     "output_type": "execute_result"
    }
   ],
   "source": [
    "df.stars.value_counts()"
   ]
  },
  {
   "cell_type": "markdown",
   "id": "23941023-6f4d-44a3-9ae5-34ba7270a646",
   "metadata": {},
   "source": [
    "There are 5 rows having values \"None\" in the ratings. We will drop all these 5 rows. "
   ]
  },
  {
   "cell_type": "code",
   "execution_count": 15,
   "id": "e5d3e147-b454-4515-8b14-54e4ec756b1c",
   "metadata": {},
   "outputs": [],
   "source": [
    "# drop the rows where the value of ratings is None\n",
    "df.drop(df[df.stars == \"None\"].index, axis=0, inplace=True)"
   ]
  },
  {
   "cell_type": "code",
   "execution_count": 16,
   "id": "e152aed3-2da4-4ee9-90dc-d2bd3553d870",
   "metadata": {},
   "outputs": [
    {
     "data": {
      "text/plain": [
       "array(['4', '1', '3', '10', '2', '7', '9', '5', '8', '6'], dtype=object)"
      ]
     },
     "execution_count": 16,
     "metadata": {},
     "output_type": "execute_result"
    }
   ],
   "source": [
    "#check the unique values again\n",
    "df.stars.unique()"
   ]
  },
  {
   "cell_type": "code",
   "execution_count": 17,
   "id": "355188be",
   "metadata": {},
   "outputs": [
    {
     "data": {
      "text/html": [
       "<div>\n",
       "<style scoped>\n",
       "    .dataframe tbody tr th:only-of-type {\n",
       "        vertical-align: middle;\n",
       "    }\n",
       "\n",
       "    .dataframe tbody tr th {\n",
       "        vertical-align: top;\n",
       "    }\n",
       "\n",
       "    .dataframe thead th {\n",
       "        text-align: right;\n",
       "    }\n",
       "</style>\n",
       "<table border=\"1\" class=\"dataframe\">\n",
       "  <thead>\n",
       "    <tr style=\"text-align: right;\">\n",
       "      <th></th>\n",
       "      <th>reviews</th>\n",
       "      <th>stars</th>\n",
       "      <th>date</th>\n",
       "      <th>country</th>\n",
       "      <th>verified</th>\n",
       "      <th>corpus</th>\n",
       "    </tr>\n",
       "  </thead>\n",
       "  <tbody>\n",
       "    <tr>\n",
       "      <th>0</th>\n",
       "      <td>False</td>\n",
       "      <td>False</td>\n",
       "      <td>False</td>\n",
       "      <td>False</td>\n",
       "      <td>False</td>\n",
       "      <td>False</td>\n",
       "    </tr>\n",
       "    <tr>\n",
       "      <th>1</th>\n",
       "      <td>False</td>\n",
       "      <td>False</td>\n",
       "      <td>False</td>\n",
       "      <td>False</td>\n",
       "      <td>False</td>\n",
       "      <td>False</td>\n",
       "    </tr>\n",
       "    <tr>\n",
       "      <th>2</th>\n",
       "      <td>False</td>\n",
       "      <td>False</td>\n",
       "      <td>False</td>\n",
       "      <td>False</td>\n",
       "      <td>False</td>\n",
       "      <td>False</td>\n",
       "    </tr>\n",
       "    <tr>\n",
       "      <th>3</th>\n",
       "      <td>False</td>\n",
       "      <td>False</td>\n",
       "      <td>False</td>\n",
       "      <td>False</td>\n",
       "      <td>False</td>\n",
       "      <td>False</td>\n",
       "    </tr>\n",
       "    <tr>\n",
       "      <th>4</th>\n",
       "      <td>False</td>\n",
       "      <td>False</td>\n",
       "      <td>False</td>\n",
       "      <td>False</td>\n",
       "      <td>False</td>\n",
       "      <td>False</td>\n",
       "    </tr>\n",
       "    <tr>\n",
       "      <th>...</th>\n",
       "      <td>...</td>\n",
       "      <td>...</td>\n",
       "      <td>...</td>\n",
       "      <td>...</td>\n",
       "      <td>...</td>\n",
       "      <td>...</td>\n",
       "    </tr>\n",
       "    <tr>\n",
       "      <th>3495</th>\n",
       "      <td>False</td>\n",
       "      <td>False</td>\n",
       "      <td>False</td>\n",
       "      <td>False</td>\n",
       "      <td>False</td>\n",
       "      <td>False</td>\n",
       "    </tr>\n",
       "    <tr>\n",
       "      <th>3496</th>\n",
       "      <td>False</td>\n",
       "      <td>False</td>\n",
       "      <td>False</td>\n",
       "      <td>False</td>\n",
       "      <td>False</td>\n",
       "      <td>False</td>\n",
       "    </tr>\n",
       "    <tr>\n",
       "      <th>3497</th>\n",
       "      <td>False</td>\n",
       "      <td>False</td>\n",
       "      <td>False</td>\n",
       "      <td>False</td>\n",
       "      <td>False</td>\n",
       "      <td>False</td>\n",
       "    </tr>\n",
       "    <tr>\n",
       "      <th>3498</th>\n",
       "      <td>False</td>\n",
       "      <td>False</td>\n",
       "      <td>False</td>\n",
       "      <td>False</td>\n",
       "      <td>False</td>\n",
       "      <td>False</td>\n",
       "    </tr>\n",
       "    <tr>\n",
       "      <th>3499</th>\n",
       "      <td>False</td>\n",
       "      <td>False</td>\n",
       "      <td>False</td>\n",
       "      <td>False</td>\n",
       "      <td>False</td>\n",
       "      <td>False</td>\n",
       "    </tr>\n",
       "  </tbody>\n",
       "</table>\n",
       "<p>3495 rows × 6 columns</p>\n",
       "</div>"
      ],
      "text/plain": [
       "      reviews  stars   date  country  verified  corpus\n",
       "0       False  False  False    False     False   False\n",
       "1       False  False  False    False     False   False\n",
       "2       False  False  False    False     False   False\n",
       "3       False  False  False    False     False   False\n",
       "4       False  False  False    False     False   False\n",
       "...       ...    ...    ...      ...       ...     ...\n",
       "3495    False  False  False    False     False   False\n",
       "3496    False  False  False    False     False   False\n",
       "3497    False  False  False    False     False   False\n",
       "3498    False  False  False    False     False   False\n",
       "3499    False  False  False    False     False   False\n",
       "\n",
       "[3495 rows x 6 columns]"
      ]
     },
     "execution_count": 17,
     "metadata": {},
     "output_type": "execute_result"
    }
   ],
   "source": [
    "df.isnull()"
   ]
  },
  {
   "cell_type": "markdown",
   "id": "c29e569e-bab0-4d73-8496-f60aa375be38",
   "metadata": {},
   "source": [
    "## Check for null Values"
   ]
  },
  {
   "cell_type": "code",
   "execution_count": 18,
   "id": "e81950f2-0cb3-4c1a-9859-233f4c3304d7",
   "metadata": {},
   "outputs": [
    {
     "data": {
      "text/plain": [
       "reviews  stars  date   country  verified  corpus\n",
       "False    False  False  False    False     False     3495\n",
       "dtype: int64"
      ]
     },
     "execution_count": 18,
     "metadata": {},
     "output_type": "execute_result"
    }
   ],
   "source": [
    "df.isnull().value_counts()"
   ]
  },
  {
   "cell_type": "code",
   "execution_count": 19,
   "id": "7c53f6a8-3f14-4711-a11a-a99f72015431",
   "metadata": {},
   "outputs": [
    {
     "data": {
      "text/plain": [
       "False    3495\n",
       "Name: country, dtype: int64"
      ]
     },
     "execution_count": 19,
     "metadata": {},
     "output_type": "execute_result"
    }
   ],
   "source": [
    "df.country.isnull().value_counts()"
   ]
  },
  {
   "cell_type": "code",
   "execution_count": 20,
   "id": "116656f9-0f7a-4d79-8f69-7f4fbf711eca",
   "metadata": {},
   "outputs": [
    {
     "data": {
      "text/plain": [
       "(3495, 6)"
      ]
     },
     "execution_count": 20,
     "metadata": {},
     "output_type": "execute_result"
    }
   ],
   "source": [
    "df.shape"
   ]
  },
  {
   "cell_type": "code",
   "execution_count": 21,
   "id": "54a2b64d-4730-44f3-b40c-409d098f78f9",
   "metadata": {},
   "outputs": [
    {
     "data": {
      "text/html": [
       "<div>\n",
       "<style scoped>\n",
       "    .dataframe tbody tr th:only-of-type {\n",
       "        vertical-align: middle;\n",
       "    }\n",
       "\n",
       "    .dataframe tbody tr th {\n",
       "        vertical-align: top;\n",
       "    }\n",
       "\n",
       "    .dataframe thead th {\n",
       "        text-align: right;\n",
       "    }\n",
       "</style>\n",
       "<table border=\"1\" class=\"dataframe\">\n",
       "  <thead>\n",
       "    <tr style=\"text-align: right;\">\n",
       "      <th></th>\n",
       "      <th>reviews</th>\n",
       "      <th>stars</th>\n",
       "      <th>date</th>\n",
       "      <th>country</th>\n",
       "      <th>verified</th>\n",
       "      <th>corpus</th>\n",
       "    </tr>\n",
       "  </thead>\n",
       "  <tbody>\n",
       "    <tr>\n",
       "      <th>0</th>\n",
       "      <td>Not Verified | BA is not treating its premium ...</td>\n",
       "      <td>4</td>\n",
       "      <td>2023-07-06</td>\n",
       "      <td>(United Kingdom)</td>\n",
       "      <td>False</td>\n",
       "      <td>verified ba treating premium economy passenger...</td>\n",
       "    </tr>\n",
       "    <tr>\n",
       "      <th>1</th>\n",
       "      <td>✅ Trip Verified |  24 hours before our departu...</td>\n",
       "      <td>1</td>\n",
       "      <td>2023-07-05</td>\n",
       "      <td>(South Africa)</td>\n",
       "      <td>True</td>\n",
       "      <td>hour departure ba cape town heathrow thursday ...</td>\n",
       "    </tr>\n",
       "    <tr>\n",
       "      <th>2</th>\n",
       "      <td>✅ Trip Verified |  We arrived at Heathrow at 0...</td>\n",
       "      <td>1</td>\n",
       "      <td>2023-07-05</td>\n",
       "      <td>(United Kingdom)</td>\n",
       "      <td>True</td>\n",
       "      <td>arrived heathrow find flight ibiza cancelled b...</td>\n",
       "    </tr>\n",
       "    <tr>\n",
       "      <th>3</th>\n",
       "      <td>✅ Trip Verified |  Original flight was cancell...</td>\n",
       "      <td>3</td>\n",
       "      <td>2023-07-04</td>\n",
       "      <td>(Greece)</td>\n",
       "      <td>True</td>\n",
       "      <td>original flight cancelled explanation represen...</td>\n",
       "    </tr>\n",
       "    <tr>\n",
       "      <th>4</th>\n",
       "      <td>Not Verified |  Airport check in was functiona...</td>\n",
       "      <td>3</td>\n",
       "      <td>2023-07-03</td>\n",
       "      <td>(Italy)</td>\n",
       "      <td>False</td>\n",
       "      <td>verified airport check functionary little warm...</td>\n",
       "    </tr>\n",
       "    <tr>\n",
       "      <th>...</th>\n",
       "      <td>...</td>\n",
       "      <td>...</td>\n",
       "      <td>...</td>\n",
       "      <td>...</td>\n",
       "      <td>...</td>\n",
       "      <td>...</td>\n",
       "    </tr>\n",
       "    <tr>\n",
       "      <th>3490</th>\n",
       "      <td>BA 213 LHR to Boston. T5 was very busy but che...</td>\n",
       "      <td>9</td>\n",
       "      <td>2014-06-12</td>\n",
       "      <td>(United Kingdom)</td>\n",
       "      <td>False</td>\n",
       "      <td>ba lhr boston busy check fast efficient flight...</td>\n",
       "    </tr>\n",
       "    <tr>\n",
       "      <th>3491</th>\n",
       "      <td>Flew World Traveller Plus for the first time. ...</td>\n",
       "      <td>7</td>\n",
       "      <td>2014-06-12</td>\n",
       "      <td>(Canada)</td>\n",
       "      <td>False</td>\n",
       "      <td>flew world traveller plus first time trip lhr ...</td>\n",
       "    </tr>\n",
       "    <tr>\n",
       "      <th>3492</th>\n",
       "      <td>Glasgow to LHR on a completely full flight. Th...</td>\n",
       "      <td>10</td>\n",
       "      <td>2014-06-12</td>\n",
       "      <td>(United Kingdom)</td>\n",
       "      <td>False</td>\n",
       "      <td>glasgow lhr completely full flight crew amazin...</td>\n",
       "    </tr>\n",
       "    <tr>\n",
       "      <th>3493</th>\n",
       "      <td>The outward trip Manchester - Heathrow - Milan...</td>\n",
       "      <td>5</td>\n",
       "      <td>2014-06-10</td>\n",
       "      <td>(United Kingdom)</td>\n",
       "      <td>False</td>\n",
       "      <td>outward trip manchester heathrow milan fine ev...</td>\n",
       "    </tr>\n",
       "    <tr>\n",
       "      <th>3494</th>\n",
       "      <td>LHR to DXB Return. Outbound flight delayed 2 h...</td>\n",
       "      <td>9</td>\n",
       "      <td>2014-06-10</td>\n",
       "      <td>(United Kingdom)</td>\n",
       "      <td>False</td>\n",
       "      <td>lhr dxb return outbound flight delayed hour we...</td>\n",
       "    </tr>\n",
       "  </tbody>\n",
       "</table>\n",
       "<p>3495 rows × 6 columns</p>\n",
       "</div>"
      ],
      "text/plain": [
       "                                                reviews stars       date  \\\n",
       "0     Not Verified | BA is not treating its premium ...     4 2023-07-06   \n",
       "1     ✅ Trip Verified |  24 hours before our departu...     1 2023-07-05   \n",
       "2     ✅ Trip Verified |  We arrived at Heathrow at 0...     1 2023-07-05   \n",
       "3     ✅ Trip Verified |  Original flight was cancell...     3 2023-07-04   \n",
       "4     Not Verified |  Airport check in was functiona...     3 2023-07-03   \n",
       "...                                                 ...   ...        ...   \n",
       "3490  BA 213 LHR to Boston. T5 was very busy but che...     9 2014-06-12   \n",
       "3491  Flew World Traveller Plus for the first time. ...     7 2014-06-12   \n",
       "3492  Glasgow to LHR on a completely full flight. Th...    10 2014-06-12   \n",
       "3493  The outward trip Manchester - Heathrow - Milan...     5 2014-06-10   \n",
       "3494  LHR to DXB Return. Outbound flight delayed 2 h...     9 2014-06-10   \n",
       "\n",
       "                 country  verified  \\\n",
       "0      (United Kingdom)      False   \n",
       "1        (South Africa)       True   \n",
       "2      (United Kingdom)       True   \n",
       "3              (Greece)       True   \n",
       "4               (Italy)      False   \n",
       "...                  ...       ...   \n",
       "3490   (United Kingdom)      False   \n",
       "3491           (Canada)      False   \n",
       "3492   (United Kingdom)      False   \n",
       "3493   (United Kingdom)      False   \n",
       "3494   (United Kingdom)      False   \n",
       "\n",
       "                                                 corpus  \n",
       "0     verified ba treating premium economy passenger...  \n",
       "1     hour departure ba cape town heathrow thursday ...  \n",
       "2     arrived heathrow find flight ibiza cancelled b...  \n",
       "3     original flight cancelled explanation represen...  \n",
       "4     verified airport check functionary little warm...  \n",
       "...                                                 ...  \n",
       "3490  ba lhr boston busy check fast efficient flight...  \n",
       "3491  flew world traveller plus first time trip lhr ...  \n",
       "3492  glasgow lhr completely full flight crew amazin...  \n",
       "3493  outward trip manchester heathrow milan fine ev...  \n",
       "3494  lhr dxb return outbound flight delayed hour we...  \n",
       "\n",
       "[3495 rows x 6 columns]"
      ]
     },
     "execution_count": 21,
     "metadata": {},
     "output_type": "execute_result"
    }
   ],
   "source": [
    "#resetting the index\n",
    "df.reset_index(drop=True)"
   ]
  },
  {
   "cell_type": "code",
   "execution_count": 28,
   "id": "8a6f1325",
   "metadata": {},
   "outputs": [
    {
     "data": {
      "text/plain": [
       "(70,)"
      ]
     },
     "execution_count": 28,
     "metadata": {},
     "output_type": "execute_result"
    }
   ],
   "source": [
    "df['country'].unique().shape"
   ]
  },
  {
   "cell_type": "markdown",
   "id": "9fa4efa3-5d41-4fa7-a5ac-a959e322fcc9",
   "metadata": {},
   "source": [
    "*****"
   ]
  },
  {
   "cell_type": "markdown",
   "id": "cbb39abb-e09a-4bad-9fa6-65bba66ed631",
   "metadata": {},
   "source": [
    "Now our data is all cleaned and ready for data visualization and data analysis."
   ]
  },
  {
   "cell_type": "code",
   "execution_count": 22,
   "id": "d9f0183c-e72a-4028-9c9a-1f3dee87c342",
   "metadata": {},
   "outputs": [],
   "source": [
    "# export the cleaned data\n",
    "\n",
    "df.to_csv(cwd + \"/cleaned-BA-reviews.csv\")"
   ]
  },
  {
   "cell_type": "code",
   "execution_count": null,
   "id": "4f9bad2f-721b-445a-86f9-bc9e16c177ce",
   "metadata": {},
   "outputs": [],
   "source": []
  }
 ],
 "metadata": {
  "kernelspec": {
   "display_name": "Python 3",
   "language": "python",
   "name": "python3"
  },
  "language_info": {
   "codemirror_mode": {
    "name": "ipython",
    "version": 3
   },
   "file_extension": ".py",
   "mimetype": "text/x-python",
   "name": "python",
   "nbconvert_exporter": "python",
   "pygments_lexer": "ipython3",
   "version": "3.8.8"
  }
 },
 "nbformat": 4,
 "nbformat_minor": 5
}
